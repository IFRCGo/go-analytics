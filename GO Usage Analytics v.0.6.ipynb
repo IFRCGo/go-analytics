{
 "cells": [
  {
   "cell_type": "markdown",
   "id": "d2a3fcc0",
   "metadata": {},
   "source": [
    "# GO Usage Analytics"
   ]
  },
  {
   "cell_type": "markdown",
   "id": "c2442318",
   "metadata": {},
   "source": [
    "### Import libraries "
   ]
  },
  {
   "cell_type": "code",
   "execution_count": 1,
   "id": "4a707da4",
   "metadata": {},
   "outputs": [],
   "source": [
    "import pandas as pd\n",
    "import numpy as np\n",
    "import requests\n",
    "import json\n",
    "import os\n",
    "from dotenv import load_dotenv, find_dotenv"
   ]
  },
  {
   "cell_type": "code",
   "execution_count": 2,
   "id": "e57cacfb",
   "metadata": {
    "scrolled": true
   },
   "outputs": [],
   "source": [
    "import datetime\n",
    "from datetime import date\n",
    "from sqlalchemy import create_engine\n",
    "from sqlalchemy import engine\n",
    "import psycopg2 as ps"
   ]
  },
  {
   "cell_type": "code",
   "execution_count": 3,
   "id": "3bed92ec",
   "metadata": {},
   "outputs": [],
   "source": [
    "from google.analytics.data_v1beta import BetaAnalyticsDataClient\n",
    "from google.analytics.data_v1beta.types import (\n",
    "    DateRange,\n",
    "    Dimension,\n",
    "    Metric,\n",
    "    RunReportRequest,\n",
    "    FilterExpression,\n",
    "    FilterExpressionList,\n",
    "    Filter\n",
    ")"
   ]
  },
  {
   "cell_type": "markdown",
   "id": "2820c66e",
   "metadata": {},
   "source": [
    "----------------------------------------------------------------------------"
   ]
  },
  {
   "cell_type": "markdown",
   "id": "6051cc29",
   "metadata": {},
   "source": [
    "### Define period of analysis"
   ]
  },
  {
   "cell_type": "code",
   "execution_count": 4,
   "id": "9ac962eb",
   "metadata": {},
   "outputs": [],
   "source": [
    "quarter = '2022-Q4'\n",
    "start_quarter = '2022-10-01'\n",
    "end_quarter = '2022-12-31'\n",
    "start_quarter_last_year = '2021-10-01'"
   ]
  },
  {
   "cell_type": "markdown",
   "id": "30b57159",
   "metadata": {},
   "source": [
    "-------------------------------------------------------------"
   ]
  },
  {
   "cell_type": "markdown",
   "id": "4bd99052",
   "metadata": {},
   "source": [
    "### Bring authentication information"
   ]
  },
  {
   "cell_type": "markdown",
   "id": "9aa6ea08",
   "metadata": {},
   "source": [
    "#### GO API"
   ]
  },
  {
   "cell_type": "code",
   "execution_count": 5,
   "id": "a1c2d725",
   "metadata": {},
   "outputs": [],
   "source": [
    "with open('go_authorization_token.json') as json_file:\n",
    "    go_authorization_token = json.load(json_file)"
   ]
  },
  {
   "cell_type": "markdown",
   "id": "12ca469a",
   "metadata": {},
   "source": [
    "#### Google Analytics"
   ]
  },
  {
   "cell_type": "code",
   "execution_count": 6,
   "id": "0e9d5bd9",
   "metadata": {
    "scrolled": true
   },
   "outputs": [],
   "source": [
    "load_dotenv()\n",
    "GOOGLE_APPLICATION_CREDENTIALS = os.getenv('GOOGLE_APPLICATION_CREDENTIALS')"
   ]
  },
  {
   "cell_type": "code",
   "execution_count": 7,
   "id": "cb406209",
   "metadata": {},
   "outputs": [],
   "source": [
    "#get GA4_PROPERTY_ID as environment variable\n",
    "go_ga4_property_id = os.environ.get(\"GA4_PROPERTY_ID\")"
   ]
  },
  {
   "cell_type": "markdown",
   "id": "cde8ca0f",
   "metadata": {},
   "source": [
    "#### GO database"
   ]
  },
  {
   "cell_type": "code",
   "execution_count": 8,
   "id": "80f62270",
   "metadata": {},
   "outputs": [],
   "source": [
    "GO_TOKEN = os.getenv('GO_TOKEN')\n",
    "GO_DB_NAME = os.getenv('GO_DB_NAME')\n",
    "GO_DB_HOST = os.getenv('GO_DB_HOST')\n",
    "GO_DB_USER = os.getenv('GO_DB_USER')\n",
    "GO_DB_PASSWORD = os.getenv('GO_DB_PASSWORD')"
   ]
  },
  {
   "cell_type": "markdown",
   "id": "e504d814",
   "metadata": {},
   "source": [
    "-------------------------------------------------------------------------"
   ]
  },
  {
   "cell_type": "markdown",
   "id": "a554a913",
   "metadata": {},
   "source": [
    "### Read data"
   ]
  },
  {
   "cell_type": "markdown",
   "id": "147e47b5",
   "metadata": {},
   "source": [
    "#### GO API"
   ]
  },
  {
   "cell_type": "code",
   "execution_count": 9,
   "id": "6f6ea14a",
   "metadata": {},
   "outputs": [],
   "source": [
    "def fetchUrl(field):\n",
    "    return requests.get(field, headers = go_authorization_token).json()"
   ]
  },
  {
   "cell_type": "code",
   "execution_count": 10,
   "id": "db4779cc",
   "metadata": {},
   "outputs": [],
   "source": [
    "def fetchField(field):\n",
    "    dict_field = []\n",
    "    errors = []\n",
    "    temp_dict = requests.get('https://goadmin.ifrc.org/api/v2/'+field+'/?limit=200/', headers = go_authorization_token).json()\n",
    "    #temp_dict = requests.get('https://goadmin.ifrc.org/api/v2/'+field+'/?limit=200/').json()\n",
    "    try:\n",
    "        while temp_dict['next']:\n",
    "            dict_field.extend(temp_dict['results'])\n",
    "            temp_dict = fetchUrl(temp_dict['next'])\n",
    "        dict_field.extend(temp_dict['results'])\n",
    "        return pd.DataFrame.from_dict(dict_field)\n",
    "    except:\n",
    "        print('Problem accessing the webpage: ', field)\n",
    "        print('========================')"
   ]
  },
  {
   "cell_type": "code",
   "execution_count": 11,
   "id": "93c92bb1",
   "metadata": {},
   "outputs": [],
   "source": [
    "go_events = fetchField('event')"
   ]
  },
  {
   "cell_type": "code",
   "execution_count": 12,
   "id": "8c9dfa89",
   "metadata": {},
   "outputs": [
    {
     "data": {
      "text/plain": [
       "5363"
      ]
     },
     "execution_count": 12,
     "metadata": {},
     "output_type": "execute_result"
    }
   ],
   "source": [
    "len(go_events)"
   ]
  },
  {
   "cell_type": "code",
   "execution_count": 13,
   "id": "df1dd81f",
   "metadata": {},
   "outputs": [],
   "source": [
    "go_sitrep = fetchField('situation_report')"
   ]
  },
  {
   "cell_type": "code",
   "execution_count": 14,
   "id": "b41fc5fe",
   "metadata": {},
   "outputs": [],
   "source": [
    "go_event_snippet = fetchField('event_snippet')"
   ]
  },
  {
   "cell_type": "code",
   "execution_count": 15,
   "id": "63414102",
   "metadata": {},
   "outputs": [],
   "source": [
    "go_country = fetchField('country')"
   ]
  },
  {
   "cell_type": "code",
   "execution_count": 16,
   "id": "e23a9867",
   "metadata": {},
   "outputs": [],
   "source": [
    "go_country = go_country[pd.notnull(go_country['iso'])]"
   ]
  },
  {
   "cell_type": "code",
   "execution_count": 17,
   "id": "c00efd81",
   "metadata": {},
   "outputs": [],
   "source": [
    "go_country = go_country[go_country['record_type_display']=='Country']"
   ]
  },
  {
   "cell_type": "code",
   "execution_count": 18,
   "id": "9750ea49",
   "metadata": {},
   "outputs": [],
   "source": [
    "go_region = fetchField('region')"
   ]
  },
  {
   "cell_type": "markdown",
   "id": "b820d8dd",
   "metadata": {},
   "source": [
    "#### Google Analytics "
   ]
  },
  {
   "cell_type": "code",
   "execution_count": 19,
   "id": "c4906f73",
   "metadata": {},
   "outputs": [],
   "source": [
    "def run_report(property_id):\n",
    "    \"\"\"Runs a simple report on a Google Analytics 4 property.\"\"\"\n",
    "    # service account secret keys specified in GOOGLE_APPLICATION_CREDENTIALS environment variable and read with the function below\n",
    "    client = BetaAnalyticsDataClient()\n",
    "\n",
    "    #almost all variables were renamed from UA to GA4 for our use case\n",
    "    request = RunReportRequest(\n",
    "        property=f\"properties/{property_id}\",\n",
    "        dimensions=[Dimension(name=\"pagePath\"),\n",
    "                   Dimension(name=\"month\"),\n",
    "                   Dimension(name=\"year\"),\n",
    "                   Dimension(name=\"countryId\"),\n",
    "                   Dimension(name=\"country\")],\n",
    "        metrics=[Metric(name=\"activeUsers\"),\n",
    "                 Metric(name=\"screenPageViews\"),#change here https://www.kevinleary.net/blog/unique-pageviews-google-analytics-4/\n",
    "                 Metric(name=\"averageSessionDuration\")],\n",
    "        date_ranges=[DateRange(start_date=start_quarter_last_year, end_date=end_quarter)],\n",
    "        limit=1000000,\n",
    "        dimension_filter=FilterExpression(\n",
    "            or_group=FilterExpressionList(\n",
    "                expressions=[\n",
    "                    FilterExpression(\n",
    "                        filter=Filter(\n",
    "                            field_name=\"pagePath\",\n",
    "                            string_filter=Filter.StringFilter(value=\"/emergencies/\",match_type = \"BEGINS_WITH\"),\n",
    "                        )\n",
    "                    ),\n",
    "                    FilterExpression(\n",
    "                        filter=Filter(\n",
    "                            field_name=\"pagePath\",\n",
    "                            string_filter=Filter.StringFilter(value=\"/emergency/\",match_type = \"BEGINS_WITH\"),\n",
    "                        )\n",
    "                    ),\n",
    "                ]\n",
    "            )\n",
    "        ),\n",
    "    )\n",
    "\n",
    "    response = client.run_report(request)\n",
    "    return response"
   ]
  },
  {
   "cell_type": "code",
   "execution_count": 20,
   "id": "78f8f074",
   "metadata": {},
   "outputs": [],
   "source": [
    "report = run_report(go_ga4_property_id)"
   ]
  },
  {
   "cell_type": "markdown",
   "id": "25451b78",
   "metadata": {},
   "source": [
    "#### GO database"
   ]
  },
  {
   "cell_type": "code",
   "execution_count": 21,
   "id": "83a4f1d4",
   "metadata": {},
   "outputs": [],
   "source": [
    "#TODO: Manual set up of database in local machine\n",
    "%load_ext sql"
   ]
  },
  {
   "cell_type": "code",
   "execution_count": 23,
   "id": "a534e9c6",
   "metadata": {},
   "outputs": [],
   "source": [
    "connection = ps.connect(\n",
    "    database = GO_DB_NAME,\n",
    "    user = GO_DB_USER,\n",
    "    password = GO_DB_PASSWORD,\n",
    "    host = GO_DB_HOST\n",
    ")"
   ]
  },
  {
   "cell_type": "code",
   "execution_count": 24,
   "id": "8311af49",
   "metadata": {},
   "outputs": [],
   "source": [
    "cursor = connection.cursor()"
   ]
  },
  {
   "cell_type": "code",
   "execution_count": 25,
   "id": "e7d1977e",
   "metadata": {},
   "outputs": [],
   "source": [
    "sites_query = cursor.execute(\"select * from auth_group\")\n",
    "colnames = [desc[0] for desc in cursor.description]\n",
    "go_auth_group = pd.DataFrame(cursor.fetchall(), columns = colnames)"
   ]
  },
  {
   "cell_type": "code",
   "execution_count": 26,
   "id": "034693df",
   "metadata": {},
   "outputs": [],
   "source": [
    "sites_query = cursor.execute(\"select * from auth_group_permissions\")\n",
    "colnames = [desc[0] for desc in cursor.description]\n",
    "go_auth_group_permission = pd.DataFrame(cursor.fetchall(), columns = colnames)"
   ]
  },
  {
   "cell_type": "code",
   "execution_count": 27,
   "id": "c3a6b503",
   "metadata": {},
   "outputs": [],
   "source": [
    "sites_query = cursor.execute(\"select * from auth_permission\")\n",
    "colnames = [desc[0] for desc in cursor.description]\n",
    "go_auth_permission = pd.DataFrame(cursor.fetchall(), columns = colnames)"
   ]
  },
  {
   "cell_type": "code",
   "execution_count": 28,
   "id": "66466159",
   "metadata": {},
   "outputs": [],
   "source": [
    "sites_query = cursor.execute(\"select * from auth_usr\")\n",
    "colnames = [desc[0] for desc in cursor.description]\n",
    "go_auth_user = pd.DataFrame(cursor.fetchall(), columns = colnames)"
   ]
  },
  {
   "cell_type": "code",
   "execution_count": 29,
   "id": "4def8633",
   "metadata": {},
   "outputs": [],
   "source": [
    "sites_query = cursor.execute(\"select * from auth_user_groups\")\n",
    "colnames = [desc[0] for desc in cursor.description]\n",
    "go_auth_user_groups = pd.DataFrame(cursor.fetchall(), columns = colnames)"
   ]
  },
  {
   "cell_type": "code",
   "execution_count": 30,
   "id": "d81bb2c6",
   "metadata": {},
   "outputs": [],
   "source": [
    "sites_query = cursor.execute(\"select * from auth_user_user_permissions\")\n",
    "colnames = [desc[0] for desc in cursor.description]\n",
    "go_auth_user_user_permissions = pd.DataFrame(cursor.fetchall(), columns = colnames)"
   ]
  },
  {
   "cell_type": "code",
   "execution_count": 31,
   "id": "1345af6d",
   "metadata": {},
   "outputs": [],
   "source": [
    "sites_query = cursor.execute(\"select * from api_profile\")\n",
    "colnames = [desc[0] for desc in cursor.description]\n",
    "go_api_profile = pd.DataFrame(cursor.fetchall(), columns = colnames)"
   ]
  },
  {
   "cell_type": "code",
   "execution_count": 32,
   "id": "e7be14f9",
   "metadata": {},
   "outputs": [],
   "source": [
    "sites_query = cursor.execute(\"select * from api_country\")\n",
    "colnames = [desc[0] for desc in cursor.description]\n",
    "go_api_country = pd.DataFrame(cursor.fetchall(), columns = colnames)"
   ]
  },
  {
   "cell_type": "code",
   "execution_count": 33,
   "id": "cdda4746",
   "metadata": {},
   "outputs": [],
   "source": [
    "cursor.close()\n",
    "connection.close()"
   ]
  },
  {
   "cell_type": "markdown",
   "id": "187d1def",
   "metadata": {},
   "source": [
    "#### Undefined data"
   ]
  },
  {
   "cell_type": "code",
   "execution_count": 34,
   "id": "31223ba3",
   "metadata": {},
   "outputs": [],
   "source": [
    "dict_location_region = {'Africa':'Africa',\n",
    "                      'Africa Region':'Africa',\n",
    "                      'Americas':'Americas',\n",
    "                      'Americas Region':'Americas',\n",
    "                      'Anguilla':'(not set)',\n",
    "                      'Aruba':'(not set)',\n",
    "                      'Asia Pacific':'Asia Pacific', \n",
    "                      'Asia-Pacific Region':'Asia Pacific',\n",
    "                      'Åland Islands':'Europe',\n",
    "                      'Bermuda':'(not set)',\n",
    "                      'Caribbean Netherlands':'(not set)',\n",
    "                      'Curaçao':'(not set)',\n",
    "                      'Europe':'Europe', \n",
    "                      'Europe Region':'Europe',\n",
    "                      'French Guiana':'(not set)',\n",
    "                      'Gibraltar': 'Europe',\n",
    "                      'Guadeloupe':'(not set)',\n",
    "                      'Hong Kong':'Asia Pacific',\n",
    "                      'St. Martin':'(not set)',\n",
    "                      'Macao':'Asia Pacific',\n",
    "                      'Martinique':'(not set)',\n",
    "                      'Mayotte':'(not set)',\n",
    "                      'Middle East & North Africa':'Middle East & North Africa',\n",
    "                      'New Caledonia':'(not set)',\n",
    "                      'Oman':'(not set)',\n",
    "                      'French Polynesia':'(not set)',\n",
    "                      'Puerto Rico':'Americas',\n",
    "                      'Réunion':'(not set)',\n",
    "                      'Sint Maarten':'(not set)',\n",
    "                      'St. Barthélemy':'(not set)',\n",
    "                      'Svalbard & Jan Mayen':'Europe',\n",
    "                      'Taiwan':'Asia Pacific',\n",
    "                      'Western Sahara':'(not set)',\n",
    "                      }  "
   ]
  },
  {
   "cell_type": "code",
   "execution_count": 35,
   "id": "1ec98d29",
   "metadata": {},
   "outputs": [],
   "source": [
    "dict_ns_region = {'British Red Cross':'Europe',\n",
    "                'Macau Red Cross':'Asia Pacific'}  "
   ]
  },
  {
   "cell_type": "markdown",
   "id": "28519e73",
   "metadata": {},
   "source": [
    "---------------------------------------------------------------"
   ]
  },
  {
   "cell_type": "markdown",
   "id": "57303051",
   "metadata": {},
   "source": [
    "### Preprocess data"
   ]
  },
  {
   "cell_type": "markdown",
   "id": "5043b9c3",
   "metadata": {},
   "source": [
    "#### Google Analytics"
   ]
  },
  {
   "cell_type": "code",
   "execution_count": 36,
   "id": "d17baed2",
   "metadata": {},
   "outputs": [],
   "source": [
    "def format_report(response):\n",
    "    # Row index\n",
    "    row_index_names = [header.name for header in response.dimension_headers]\n",
    "    row_header = []\n",
    "    for i in range(len(row_index_names)):\n",
    "        row_header.append([row.dimension_values[i].value for row in response.rows])\n",
    "\n",
    "    row_index_named = pd.MultiIndex.from_arrays(np.array(row_header), names = np.array(row_index_names))\n",
    "    # Row flat data\n",
    "    metric_names = [header.name for header in response.metric_headers]\n",
    "    data_values = []\n",
    "    for i in range(len(metric_names)):\n",
    "        data_values.append([row.metric_values[i].value for row in response.rows])\n",
    "\n",
    "    output = pd.DataFrame(data = np.transpose(np.array(data_values, dtype = 'f')), \n",
    "                          index = row_index_named, columns = metric_names)\n",
    "    output = output.reset_index()\n",
    "    return output"
   ]
  },
  {
   "cell_type": "code",
   "execution_count": 37,
   "id": "dd2b7c3e",
   "metadata": {},
   "outputs": [],
   "source": [
    "google_views_quarter = format_report(report)"
   ]
  },
  {
   "cell_type": "code",
   "execution_count": 38,
   "id": "64daaf83",
   "metadata": {},
   "outputs": [],
   "source": [
    "google_views_quarter['month'] = [pd.to_datetime(y+x, format='%Y%m') for x,y in zip(google_views_quarter['month'],google_views_quarter['year'])]"
   ]
  },
  {
   "cell_type": "code",
   "execution_count": 39,
   "id": "3db24c7b",
   "metadata": {},
   "outputs": [],
   "source": [
    "google_views_quarter['quarter'] = [str(x.year)+'-Q'+str((x.month-1)//3 + 1) for x in google_views_quarter['month']]"
   ]
  },
  {
   "cell_type": "code",
   "execution_count": 40,
   "id": "943bb71d",
   "metadata": {},
   "outputs": [],
   "source": [
    "google_views_quarter['activeUsers'] = [int(x) for x in google_views_quarter['activeUsers']]"
   ]
  },
  {
   "cell_type": "code",
   "execution_count": 41,
   "id": "278f4dc4",
   "metadata": {},
   "outputs": [],
   "source": [
    "google_views_quarter['screenPageViews'] = [int(x) for x in google_views_quarter['screenPageViews']]"
   ]
  },
  {
   "cell_type": "code",
   "execution_count": 42,
   "id": "06d45840",
   "metadata": {},
   "outputs": [],
   "source": [
    "google_views_quarter['averageSessionDuration'] = [float(x) for x in google_views_quarter['averageSessionDuration']]"
   ]
  },
  {
   "cell_type": "code",
   "execution_count": 43,
   "id": "cddbbe8e",
   "metadata": {},
   "outputs": [],
   "source": [
    "google_views_quarter = google_views_quarter.merge(go_country[['iso','region']], left_on = 'countryId', right_on = 'iso', how = 'left')"
   ]
  },
  {
   "cell_type": "code",
   "execution_count": 44,
   "id": "65e54bdc",
   "metadata": {},
   "outputs": [],
   "source": [
    "google_views_quarter = google_views_quarter.merge(go_region[['id','region_name']], left_on = 'region', right_on = 'id', how = 'left')"
   ]
  },
  {
   "cell_type": "code",
   "execution_count": 45,
   "id": "2923e17b",
   "metadata": {},
   "outputs": [
    {
     "data": {
      "text/plain": [
       "6734"
      ]
     },
     "execution_count": 45,
     "metadata": {},
     "output_type": "execute_result"
    }
   ],
   "source": [
    "len(google_views_quarter)"
   ]
  },
  {
   "cell_type": "code",
   "execution_count": 52,
   "id": "1f547ab3",
   "metadata": {},
   "outputs": [],
   "source": [
    "def ga_clean_no_location(df):\n",
    "    if len(df[df['countryId'] == '(not set)']) > 0:\n",
    "        print('Number of viewers from Google Analytics without location:', df[df['countryId'] == '(not set)']['activeUsers'].iloc[0], '. This viewers are removed from the analysis.')\n",
    "        df = df[df['countryId'] != '(not set)']\n",
    "    return df"
   ]
  },
  {
   "cell_type": "code",
   "execution_count": 53,
   "id": "58c10bb1",
   "metadata": {},
   "outputs": [
    {
     "name": "stdout",
     "output_type": "stream",
     "text": [
      "Number of viewers from Google Analytics without location: 1 . This viewers are removed from the analysis.\n"
     ]
    }
   ],
   "source": [
    "google_views_quarter = ga_clean_no_location(google_views_quarter)"
   ]
  },
  {
   "cell_type": "code",
   "execution_count": 55,
   "id": "7c78ce5f",
   "metadata": {},
   "outputs": [],
   "source": [
    "assert(len(google_views_quarter[pd.isna(google_views_quarter['countryId'])]) == 0)"
   ]
  },
  {
   "cell_type": "code",
   "execution_count": 51,
   "id": "0701cf7b",
   "metadata": {},
   "outputs": [],
   "source": [
    "#TODO: Manual process: Identify region of countries that have not been assigned in GO and add it to the above displayed dictionary\n",
    "#google_views_quarter['region_name'] = [dict_location_region[y] if pd.isna(x) else x for x,y in zip(google_viewers_quarter['region_name'],google_viewers_quarter['countryId'])]"
   ]
  },
  {
   "cell_type": "code",
   "execution_count": 56,
   "id": "85e47144",
   "metadata": {},
   "outputs": [],
   "source": [
    "def filter_existing_pages_id(google_views_quarter, go_events):\n",
    "    ''' Filter Google Analytics emergency page pathways that have a connection to the GO collection of emergency pages.\n",
    "    This involves eliminating Google Analytics data obtained from users who clicked on links that were invalid \n",
    "    and only matched the GO dataset's format for emergency pages.\n",
    "    '''\n",
    "    \n",
    "    go_emg_collection = ['/emergencies/'+str(x) for x in go_events['id']]\n",
    "    go_emg_collection.extend(['/emergency/'+x for x in go_events['slug'] if pd.notnull(x)])\n",
    "    go_emg_collection.extend('/emergency/'+str(x) for x in go_events['id'])\n",
    "    \n",
    "    mask = [x in go_emg_collection for x in google_views_quarter['pagePath']]\n",
    "    filtered = google_views_quarter[mask]\n",
    "    removed = pd.concat([google_views_quarter,filtered]).drop_duplicates(keep=False)\n",
    "    \n",
    "    nb_pages_out = len(np.setdiff1d(google_views_quarter['pagePath'],go_emg_collection))\n",
    "    nb_users_pages_out= removed['activeUsers'].sum()\n",
    "    nb_views_pages_out= removed['screenPageViews'].sum()\n",
    "    \n",
    "    print(nb_pages_out,' GO \\'emergency pages\\' links that are not functioning (possibly because the emergencies/events were deleted), were visited by ',nb_users_pages_out,' active users in ', nb_views_pages_out,'views.') \n",
    "    return filtered"
   ]
  },
  {
   "cell_type": "code",
   "execution_count": 57,
   "id": "d1031597",
   "metadata": {},
   "outputs": [
    {
     "name": "stdout",
     "output_type": "stream",
     "text": [
      "55  GO 'emergency pages' links that are not functioning (possibly because the emergencies/events were deleted), were visited by  503  active users in  976 views.\n"
     ]
    }
   ],
   "source": [
    "google_views_quarter = filter_existing_pages_id(google_views_quarter, go_events)"
   ]
  },
  {
   "cell_type": "code",
   "execution_count": 58,
   "id": "1dbb2a1c",
   "metadata": {},
   "outputs": [],
   "source": [
    "google_views_quarter.rename(columns ={'countryId':'Country','country':'CountryName','pagePath':'Page','activeUsers':'# Viewers','screenPageViews':'Views','averageSessionDuration':'Avg Time On Page','month':'Month','quarter':'Date'}, inplace = True)"
   ]
  },
  {
   "cell_type": "code",
   "execution_count": 59,
   "id": "f083254e",
   "metadata": {},
   "outputs": [],
   "source": [
    "assert(len(google_views_quarter[google_views_quarter[['Page','Month','Country']].duplicated()])==0)"
   ]
  },
  {
   "cell_type": "markdown",
   "id": "345c67b9",
   "metadata": {},
   "source": [
    "#### GO API"
   ]
  },
  {
   "cell_type": "markdown",
   "id": "65264b7a",
   "metadata": {},
   "source": [
    "##### Events"
   ]
  },
  {
   "cell_type": "code",
   "execution_count": 60,
   "id": "c6835a8c",
   "metadata": {},
   "outputs": [],
   "source": [
    "go_events['created_at'] = [pd.to_datetime(x) if pd.notna(x) else np.nan for x in go_events['created_at']]"
   ]
  },
  {
   "cell_type": "code",
   "execution_count": 61,
   "id": "e56a09c0",
   "metadata": {},
   "outputs": [],
   "source": [
    "go_events['updated_at'] = [pd.to_datetime(x) if pd.notna(x) else np.nan for x in go_events['updated_at']]"
   ]
  },
  {
   "cell_type": "code",
   "execution_count": 62,
   "id": "66f63bfb",
   "metadata": {},
   "outputs": [],
   "source": [
    "go_events['Page'] = ['/emergencies/'+str(x) for x in go_events['id']]"
   ]
  },
  {
   "cell_type": "code",
   "execution_count": 63,
   "id": "a593e5d3",
   "metadata": {},
   "outputs": [],
   "source": [
    "go_events['countries_list'] = [[c['society_name'] for c in x] if len(x) > 0 else np.nan for x in go_events['countries']]"
   ]
  },
  {
   "cell_type": "code",
   "execution_count": 64,
   "id": "c0231027",
   "metadata": {},
   "outputs": [
    {
     "data": {
      "text/plain": [
       "5363"
      ]
     },
     "execution_count": 64,
     "metadata": {},
     "output_type": "execute_result"
    }
   ],
   "source": [
    "len(go_events)"
   ]
  },
  {
   "cell_type": "code",
   "execution_count": 65,
   "id": "1579a690",
   "metadata": {},
   "outputs": [],
   "source": [
    "go_events = go_events.explode(column = 'countries_list')"
   ]
  },
  {
   "cell_type": "code",
   "execution_count": 66,
   "id": "9977366c",
   "metadata": {},
   "outputs": [],
   "source": [
    "go_events.rename(columns = {'countries_list':'National Society'}, inplace = True)"
   ]
  },
  {
   "cell_type": "code",
   "execution_count": 67,
   "id": "b87b6a06",
   "metadata": {},
   "outputs": [
    {
     "data": {
      "text/plain": [
       "5656"
      ]
     },
     "execution_count": 67,
     "metadata": {},
     "output_type": "execute_result"
    }
   ],
   "source": [
    "len(go_events)"
   ]
  },
  {
   "cell_type": "code",
   "execution_count": 68,
   "id": "8f12cb26",
   "metadata": {},
   "outputs": [],
   "source": [
    "go_events['region_id'] = [x[0]['region'] if len(x) > 0 and pd.notnull(x[0]['region']) else np.nan for x in go_events['countries']]"
   ]
  },
  {
   "cell_type": "code",
   "execution_count": 69,
   "id": "cd847be9",
   "metadata": {},
   "outputs": [],
   "source": [
    "go_events = go_events.merge(go_region[['id','region_name']], left_on = 'region_id', right_on = 'id', how = 'left')"
   ]
  },
  {
   "cell_type": "code",
   "execution_count": 70,
   "id": "c42c5cad",
   "metadata": {},
   "outputs": [],
   "source": [
    "go_events.rename(columns = {'region_name':'Region'}, inplace = True)"
   ]
  },
  {
   "cell_type": "code",
   "execution_count": 71,
   "id": "d271da9f",
   "metadata": {},
   "outputs": [],
   "source": [
    "#Removal of events without associated location\n",
    "mask = [bool(x) for x in go_events['countries']]\n",
    "go_events = go_events[mask]"
   ]
  },
  {
   "cell_type": "code",
   "execution_count": 72,
   "id": "6014cbc7",
   "metadata": {},
   "outputs": [
    {
     "data": {
      "text/plain": [
       "5128"
      ]
     },
     "execution_count": 72,
     "metadata": {},
     "output_type": "execute_result"
    }
   ],
   "source": [
    "len(go_events)"
   ]
  },
  {
   "cell_type": "code",
   "execution_count": 73,
   "id": "e7674227",
   "metadata": {},
   "outputs": [],
   "source": [
    "go_events['Region'] = [y[0]['name'] if pd.isna(x) else x for x,y in zip(go_events['Region'], go_events['countries'])]"
   ]
  },
  {
   "cell_type": "code",
   "execution_count": 74,
   "id": "0d2f6c71",
   "metadata": {},
   "outputs": [],
   "source": [
    "go_events['Region'] = go_events['Region'].map(dict_location_region)"
   ]
  },
  {
   "cell_type": "code",
   "execution_count": 75,
   "id": "38e8aecf",
   "metadata": {},
   "outputs": [],
   "source": [
    "#TODO: Verify all locations are mapped into regions. If not, update dictionary!\n",
    "assert(len(go_events['Region'].unique()) == 6)"
   ]
  },
  {
   "cell_type": "markdown",
   "id": "d0103e6e",
   "metadata": {},
   "source": [
    "##### Event Snippets"
   ]
  },
  {
   "cell_type": "code",
   "execution_count": 76,
   "id": "f790489d",
   "metadata": {},
   "outputs": [],
   "source": [
    "go_event_snippet.rename(columns = {'id':'snippets'}, inplace = True)"
   ]
  },
  {
   "cell_type": "markdown",
   "id": "6d226aee",
   "metadata": {},
   "source": [
    "##### Situation Reports"
   ]
  },
  {
   "cell_type": "code",
   "execution_count": 77,
   "id": "3e5b7409",
   "metadata": {},
   "outputs": [],
   "source": [
    "go_sitrep['type_report'] = [x['type'] if pd.notnull(x) else np.nan for x in go_sitrep['type']]"
   ]
  },
  {
   "cell_type": "code",
   "execution_count": 78,
   "id": "6088f3a9",
   "metadata": {},
   "outputs": [],
   "source": [
    "go_sitrep['created_at'] = [pd.to_datetime(x) for x in go_sitrep['created_at']]"
   ]
  },
  {
   "cell_type": "markdown",
   "id": "923bed9e",
   "metadata": {},
   "source": [
    "##### National Societies"
   ]
  },
  {
   "cell_type": "code",
   "execution_count": 79,
   "id": "96fcc24e",
   "metadata": {},
   "outputs": [],
   "source": [
    "mask = [bool(x) for x in go_country['society_name']]\n",
    "go_ns = go_country[mask]"
   ]
  },
  {
   "cell_type": "code",
   "execution_count": 80,
   "id": "d6bef6a0",
   "metadata": {},
   "outputs": [],
   "source": [
    "go_ns = go_ns.merge(go_region[['id','region_name']], left_on = 'region', right_on = 'id', how = 'left')[['region_name','society_name','name']]"
   ]
  },
  {
   "cell_type": "code",
   "execution_count": 81,
   "id": "fc55baec",
   "metadata": {},
   "outputs": [],
   "source": [
    "go_ns = go_ns.drop_duplicates('society_name')"
   ]
  },
  {
   "cell_type": "code",
   "execution_count": 82,
   "id": "b99ccf68",
   "metadata": {},
   "outputs": [],
   "source": [
    "go_ns = go_ns[go_ns['society_name'] != 'Benelux ERU']"
   ]
  },
  {
   "cell_type": "code",
   "execution_count": 83,
   "id": "7b58f99f",
   "metadata": {},
   "outputs": [],
   "source": [
    "def define_ns_region(df):\n",
    "    try:\n",
    "        df['region_name'] = [dict_ns_region[x] if pd.isna(y) else y for x,y in zip(df['society_name'], df['region_name'])]\n",
    "        return df\n",
    "    except:\n",
    "        print('It was not possible to do a mapping between a National Society and a Region')"
   ]
  },
  {
   "cell_type": "code",
   "execution_count": 84,
   "id": "73307d9f",
   "metadata": {},
   "outputs": [],
   "source": [
    "go_ns = define_ns_region(go_ns)"
   ]
  },
  {
   "cell_type": "code",
   "execution_count": 85,
   "id": "09b8343b",
   "metadata": {},
   "outputs": [],
   "source": [
    "assert(len(go_ns[pd.isna(go_ns['region_name'])]) == 0)"
   ]
  },
  {
   "cell_type": "code",
   "execution_count": 86,
   "id": "cfb6140a",
   "metadata": {},
   "outputs": [],
   "source": [
    "go_ns_names = go_ns.merge(go_api_country[['society_name_en','society_name_fr','society_name_es','society_name_ar']], how = 'left', left_on = 'society_name', right_on = 'society_name_en').drop_duplicates()"
   ]
  },
  {
   "cell_type": "markdown",
   "id": "8ee97f91",
   "metadata": {},
   "source": [
    "#### GO Database"
   ]
  },
  {
   "cell_type": "markdown",
   "id": "871ac2d4",
   "metadata": {},
   "source": [
    "##### Users"
   ]
  },
  {
   "cell_type": "code",
   "execution_count": 87,
   "id": "f86c5dc9",
   "metadata": {},
   "outputs": [],
   "source": [
    "go_users = go_auth_user.merge(go_api_profile, how = 'left', left_on = 'id', right_on = 'user_id')"
   ]
  },
  {
   "cell_type": "code",
   "execution_count": 88,
   "id": "b3bd2000",
   "metadata": {},
   "outputs": [],
   "source": [
    "go_users = go_users.merge(go_country[['id','name','region']], how= 'left', left_on = 'country_id', right_on = 'id')"
   ]
  },
  {
   "cell_type": "code",
   "execution_count": 89,
   "id": "af94b62b",
   "metadata": {},
   "outputs": [],
   "source": [
    "go_users = go_users.merge(go_region[['id','region_name']], how = 'left', left_on = 'region', right_on = 'id')"
   ]
  },
  {
   "cell_type": "code",
   "execution_count": 90,
   "id": "7fad1ab8",
   "metadata": {},
   "outputs": [],
   "source": [
    "go_users.drop(columns = ['id_y','id'], inplace = True)"
   ]
  },
  {
   "cell_type": "code",
   "execution_count": 91,
   "id": "25ba93c7",
   "metadata": {},
   "outputs": [],
   "source": [
    "go_users.rename(columns = {'id_x':'id'}, inplace = True)"
   ]
  },
  {
   "cell_type": "code",
   "execution_count": 92,
   "id": "c6b4303e",
   "metadata": {},
   "outputs": [],
   "source": [
    "go_users['last_frontend_login'] = [pd.to_datetime(x) if pd.notna(x) else np.nan for x in go_users['last_frontend_login']]"
   ]
  },
  {
   "cell_type": "code",
   "execution_count": 93,
   "id": "8c8c1073",
   "metadata": {},
   "outputs": [],
   "source": [
    "go_users['last_login'] = [pd.to_datetime(x) if pd.notna(x) else np.nan for x in go_users['last_login']]"
   ]
  },
  {
   "cell_type": "code",
   "execution_count": 94,
   "id": "deb2322c",
   "metadata": {},
   "outputs": [],
   "source": [
    "go_users['date_joined'] = [pd.to_datetime(x) if pd.notna(x) else np.nan for x in go_users['date_joined']]"
   ]
  },
  {
   "cell_type": "code",
   "execution_count": 95,
   "id": "b8e93024",
   "metadata": {},
   "outputs": [],
   "source": [
    "def logged_in_quarter(go_users):\n",
    "    start_quarter_date = pd.to_datetime(start_quarter, utc = True)\n",
    "    end_quarter_date = pd.to_datetime(end_quarter, utc = True)\n",
    "    \n",
    "    mask_fe_login = [x >= start_quarter_date if pd.notna(x) else False for x in go_users['last_frontend_login']]\n",
    "    mask_login = [x >= start_quarter_date if pd.notna(x) else False for x in go_users['last_login']]\n",
    "    mask_joined = [x >= start_quarter_date if pd.notna(x) else False for x in go_users['date_joined']]\n",
    "    \n",
    "    mask = [any([a,b,c]) for a,b,c in zip(mask_fe_login, mask_login, mask_joined)]\n",
    "    return go_users[mask]"
   ]
  },
  {
   "cell_type": "code",
   "execution_count": 96,
   "id": "f95f41c2",
   "metadata": {},
   "outputs": [],
   "source": [
    "go_users_quarter = logged_in_quarter(go_users)"
   ]
  },
  {
   "cell_type": "code",
   "execution_count": 97,
   "id": "067203fd",
   "metadata": {},
   "outputs": [],
   "source": [
    "go_users_quarter_ns = go_users_quarter[go_users_quarter['org_type'] == 'NTLS']"
   ]
  },
  {
   "cell_type": "code",
   "execution_count": 98,
   "id": "1100df8d",
   "metadata": {},
   "outputs": [],
   "source": [
    "go_users_quarter_other = go_users_quarter[go_users_quarter['org_type'] != 'NTLS']"
   ]
  },
  {
   "cell_type": "code",
   "execution_count": 99,
   "id": "07198e3e",
   "metadata": {},
   "outputs": [],
   "source": [
    "def matched_ns_affiliation(go_users_ns):\n",
    "    \n",
    "    ns_en = go_users_ns.merge(go_ns_names[['society_name_en']], left_on = 'org', right_on = 'society_name_en', how = 'inner')\n",
    "    ns_en.drop(columns = ['society_name_en'], inplace = True)\n",
    "    \n",
    "    ns_fr = go_users_ns.merge(go_ns_names[['society_name_en','society_name_fr']], left_on = 'org', right_on = 'society_name_fr', how = 'inner')\n",
    "    ns_fr['org'] = ns_fr['society_name_en']\n",
    "    ns_fr.drop(columns = ['society_name_fr','society_name_en'], inplace = True)\n",
    "    \n",
    "    ns_es = go_users_ns.merge(go_ns_names[['society_name_en','society_name_es']], left_on = 'org', right_on = 'society_name_es', how = 'inner')\n",
    "    ns_es['org'] = ns_es['society_name_en']\n",
    "    ns_es.drop(columns = ['society_name_es','society_name_en'], inplace = True)\n",
    "    \n",
    "    ns_ar = go_users_ns.merge(go_ns_names[['society_name_en','society_name_ar']], left_on = 'org', right_on = 'society_name_ar', how = 'inner')\n",
    "    ns_ar['org'] = ns_ar['society_name_en']\n",
    "    ns_ar.drop(columns = ['society_name_ar','society_name_en'], inplace = True)\n",
    "    \n",
    "    return pd.concat([ns_en, ns_fr, ns_es, ns_ar])"
   ]
  },
  {
   "cell_type": "code",
   "execution_count": 100,
   "id": "cec71aa2",
   "metadata": {},
   "outputs": [],
   "source": [
    "go_users_quarter_ns_part1 = matched_ns_affiliation(go_users_quarter_ns)"
   ]
  },
  {
   "cell_type": "code",
   "execution_count": 101,
   "id": "9a3be224",
   "metadata": {},
   "outputs": [
    {
     "name": "stdout",
     "output_type": "stream",
     "text": [
      "There are  8 NS users without a valid national society name\n"
     ]
    }
   ],
   "source": [
    "# TODO: find those users without a valid national society name in quarter\n",
    "go_users_quarter_ns_part2 = pd.DataFrame(data = {'id': np.setdiff1d(go_users_quarter_ns['id'], go_users_quarter_ns_part1['id'])}).merge(go_users_quarter_ns, how = 'left')\n",
    "print('There are ', len(go_users_quarter_ns_part2 ), 'NS users without a valid national society name')\n",
    "#go_users_quarter_ns_part2"
   ]
  },
  {
   "cell_type": "code",
   "execution_count": 104,
   "id": "ac07343d",
   "metadata": {},
   "outputs": [
    {
     "ename": "AssertionError",
     "evalue": "",
     "output_type": "error",
     "traceback": [
      "\u001b[1;31m---------------------------------------------------------------------------\u001b[0m",
      "\u001b[1;31mAssertionError\u001b[0m                            Traceback (most recent call last)",
      "Cell \u001b[1;32mIn[104], line 1\u001b[0m\n\u001b[1;32m----> 1\u001b[0m \u001b[38;5;28;01massert\u001b[39;00m(\u001b[38;5;28mlen\u001b[39m(go_users_quarter_ns_part2)\u001b[38;5;241m==\u001b[39m\u001b[38;5;241m0\u001b[39m)\n",
      "\u001b[1;31mAssertionError\u001b[0m: "
     ]
    }
   ],
   "source": [
    "assert(len(go_users_quarter_ns_part2)==0)"
   ]
  },
  {
   "cell_type": "code",
   "execution_count": null,
   "id": "31071fc6",
   "metadata": {},
   "outputs": [],
   "source": [
    "#TODO: clean dataset from admin site OR country NS by default"
   ]
  },
  {
   "cell_type": "code",
   "execution_count": 105,
   "id": "8ad79080",
   "metadata": {},
   "outputs": [],
   "source": [
    "def infer_ns_affiliation(go_users):\n",
    "    go_users = go_users.merge(go_ns[['name','society_name']], on = 'name', how = 'left')\n",
    "    go_users['org'] = go_users['society_name']\n",
    "    go_users.drop(columns = ['society_name'], inplace = True)\n",
    "    return go_users"
   ]
  },
  {
   "cell_type": "code",
   "execution_count": 106,
   "id": "0ba1c6db",
   "metadata": {},
   "outputs": [],
   "source": [
    "go_users_quarter_ns_part2 = infer_ns_affiliation(go_users_quarter_ns_part2)"
   ]
  },
  {
   "cell_type": "code",
   "execution_count": 107,
   "id": "12940dba",
   "metadata": {},
   "outputs": [],
   "source": [
    "assert(len(go_users_quarter_ns_part2) == len(infer_ns_affiliation(go_users_quarter_ns_part2)))"
   ]
  },
  {
   "cell_type": "code",
   "execution_count": 108,
   "id": "00f2cadc",
   "metadata": {},
   "outputs": [],
   "source": [
    "go_users_quarter_ns = pd.concat([go_users_quarter_ns_part1,go_users_quarter_ns_part2])"
   ]
  },
  {
   "cell_type": "code",
   "execution_count": 109,
   "id": "b50664ba",
   "metadata": {},
   "outputs": [
    {
     "name": "stdout",
     "output_type": "stream",
     "text": [
      "There are  25  users that are not from national societies, whose country location information is not available. These users are removed from the analysis.\n"
     ]
    }
   ],
   "source": [
    "print('There are ',len(go_users_quarter_other[pd.isna(go_users_quarter_other['name'])]),' users that are not from national societies, whose country location information is not available. These users are removed from the analysis.')\n",
    "go_users_quarter_other = go_users_quarter_other[pd.notna(go_users_quarter_other['name'])]"
   ]
  },
  {
   "cell_type": "code",
   "execution_count": 113,
   "id": "ff14049c",
   "metadata": {},
   "outputs": [],
   "source": [
    "mask = [x.startswith('country_admin_') for x in go_auth_permission['codename']]\n",
    "go_country_auth_permission = go_auth_permission[mask].copy()"
   ]
  },
  {
   "cell_type": "code",
   "execution_count": 114,
   "id": "f0c31433",
   "metadata": {},
   "outputs": [],
   "source": [
    "go_country_auth_permission['country_name'] = [int(x.split('_')[-1]) for x in go_country_auth_permission['codename']]"
   ]
  },
  {
   "cell_type": "code",
   "execution_count": 115,
   "id": "19965512",
   "metadata": {},
   "outputs": [],
   "source": [
    "go_country_auth_permission = go_country_auth_permission.merge(go_country[['id','name','society_name']], left_on = 'country_name', right_on = 'id', how = 'left')"
   ]
  },
  {
   "cell_type": "markdown",
   "id": "22fd2014",
   "metadata": {},
   "source": [
    "---------------------------------------------------"
   ]
  },
  {
   "cell_type": "markdown",
   "id": "634e1e34",
   "metadata": {},
   "source": [
    "### Analysis"
   ]
  },
  {
   "cell_type": "markdown",
   "id": "20c4c5a9",
   "metadata": {},
   "source": [
    "#### Historical and Geographical Views/Viewers of Emergencies"
   ]
  },
  {
   "cell_type": "code",
   "execution_count": 116,
   "id": "3a81fb8f",
   "metadata": {},
   "outputs": [],
   "source": [
    "emergencies = google_views_quarter.merge(go_events[['Page','National Society','Region','name']], on = 'Page', how = 'inner')"
   ]
  },
  {
   "cell_type": "code",
   "execution_count": 117,
   "id": "0397a80b",
   "metadata": {},
   "outputs": [],
   "source": [
    "emergencies['URL'] = ['https://go.ifrc.org'+x for x in emergencies['Page']]"
   ]
  },
  {
   "cell_type": "code",
   "execution_count": 118,
   "id": "d09a7633",
   "metadata": {},
   "outputs": [],
   "source": [
    "emergencies['Emergency Name'] = ['['+x.split('/')[-1] + '] '+ y for x,y in zip(emergencies['Page'],emergencies['name'])]"
   ]
  },
  {
   "cell_type": "code",
   "execution_count": 119,
   "id": "990ba640",
   "metadata": {},
   "outputs": [],
   "source": [
    "page_1 = emergencies.groupby(['Region','National Society','Page','Emergency Name','Date','Country'], as_index =  False).sum(numeric_only =True)[['Region','National Society','Page','Emergency Name','Date','Country','Views']]"
   ]
  },
  {
   "cell_type": "code",
   "execution_count": 120,
   "id": "87913869",
   "metadata": {},
   "outputs": [],
   "source": [
    "page_1.to_excel('../'+quarter+'/go_usage_regional_pg1.xlsx')"
   ]
  },
  {
   "cell_type": "markdown",
   "id": "329bf510",
   "metadata": {},
   "source": [
    "#### Page views in quarter"
   ]
  },
  {
   "cell_type": "code",
   "execution_count": 121,
   "id": "78d2523a",
   "metadata": {},
   "outputs": [],
   "source": [
    "emergencies_quarter = emergencies[emergencies['Date'] == quarter]"
   ]
  },
  {
   "cell_type": "code",
   "execution_count": 122,
   "id": "8b7e043d",
   "metadata": {},
   "outputs": [],
   "source": [
    "emergencies_quarter = emergencies_quarter.groupby(['Region','National Society','Page','URL','Date'], as_index = False).agg({'# Viewers':'sum','Views':'sum', 'Avg Time On Page':'mean'})"
   ]
  },
  {
   "cell_type": "code",
   "execution_count": 123,
   "id": "7bf81b1c",
   "metadata": {},
   "outputs": [],
   "source": [
    "go_events_quarter = go_events[go_events['created_at']>pd.to_datetime(start_quarter, utc =True)]\n",
    "go_events_quarter = go_events_quarter[go_events_quarter['created_at']<pd.to_datetime(end_quarter, utc =True)]"
   ]
  },
  {
   "cell_type": "code",
   "execution_count": 124,
   "id": "9215dd41",
   "metadata": {},
   "outputs": [],
   "source": [
    "emg_wo_views = np.setdiff1d(go_events_quarter['Page'].unique(),emergencies_quarter['Page'].unique())"
   ]
  },
  {
   "cell_type": "code",
   "execution_count": 125,
   "id": "fdad27b8",
   "metadata": {},
   "outputs": [],
   "source": [
    "emg_wo_views_df = pd.DataFrame(data = {'Page':emg_wo_views}).merge(go_events_quarter[['Page','National Society','Region']])\n",
    "emg_wo_views_df['URL'] = ['https://go.ifrc.org' + x for x in emg_wo_views_df['Page']]\n",
    "emg_wo_views_df['Date'] = quarter\n",
    "emg_wo_views_df['# Viewers'] = 0\n",
    "emg_wo_views_df['Views'] = 0\n",
    "emg_wo_views_df['Avg Time On Page'] = 0"
   ]
  },
  {
   "cell_type": "code",
   "execution_count": 126,
   "id": "4a23ee72",
   "metadata": {},
   "outputs": [],
   "source": [
    "emergencies_quarter = pd.concat([emergencies_quarter,emg_wo_views_df])"
   ]
  },
  {
   "cell_type": "code",
   "execution_count": 127,
   "id": "6d095c21",
   "metadata": {},
   "outputs": [],
   "source": [
    "page_2 = emergencies_quarter.merge(go_events[['Page','created_at','name']].drop_duplicates(), on = 'Page', how = 'left')"
   ]
  },
  {
   "cell_type": "code",
   "execution_count": 128,
   "id": "6c61f279",
   "metadata": {},
   "outputs": [],
   "source": [
    "page_2['created_at'] = [x.strftime('%d/%m/%Y') for x in page_2['created_at']]"
   ]
  },
  {
   "cell_type": "code",
   "execution_count": 129,
   "id": "d6b390f0",
   "metadata": {},
   "outputs": [],
   "source": [
    "page_2.to_excel('../'+quarter+'/go_usage_regional_pg2.xlsx')"
   ]
  },
  {
   "cell_type": "markdown",
   "id": "9cbd8ee4",
   "metadata": {},
   "source": [
    "#### National Society general use of GO"
   ]
  },
  {
   "cell_type": "code",
   "execution_count": 130,
   "id": "74f362fa",
   "metadata": {},
   "outputs": [],
   "source": [
    "#analyze same Emergency Pages as in page 2\n",
    "go_events_quarter = page_2[['Page']].merge(go_events, how = 'left')"
   ]
  },
  {
   "cell_type": "code",
   "execution_count": 131,
   "id": "a050f3f2",
   "metadata": {},
   "outputs": [],
   "source": [
    "go_events_quarter['nb_field_reports'] = [len(x) for x in go_events_quarter['field_reports']]"
   ]
  },
  {
   "cell_type": "code",
   "execution_count": 132,
   "id": "9c55335d",
   "metadata": {},
   "outputs": [],
   "source": [
    "go_events_quarter['nb_appeals'] = [len(x) for x in go_events_quarter['appeals']]"
   ]
  },
  {
   "cell_type": "code",
   "execution_count": 133,
   "id": "c0122bf8",
   "metadata": {},
   "outputs": [],
   "source": [
    "#### Adding information of Situation Reports\n",
    "# we don't have into account reports submitted after quarter of analysis\n",
    "go_sitrep_quarter = go_sitrep[go_sitrep['created_at']<pd.to_datetime(end_quarter, utc =True)]\n",
    "go_sitrep_quarter = go_sitrep_quarter.groupby(['event','type_report'], as_index = False).count()[['event','type_report','id']]\n",
    "go_sitrep_quarter = go_sitrep_quarter.pivot(index = ['event'], columns = ['type_report'], values = ['id'])\n",
    "go_sitrep_quarter = go_sitrep_quarter.droplevel(level=0, axis = 1)\n",
    "go_sitrep_quarter['nb_sitrep'] = go_sitrep_quarter.sum(axis = 1)\n",
    "go_events_quarter = go_events_quarter.merge(go_sitrep_quarter, left_on = 'id_x', right_on = 'event', how = 'left')"
   ]
  },
  {
   "cell_type": "code",
   "execution_count": 134,
   "id": "cf5a62c2",
   "metadata": {},
   "outputs": [],
   "source": [
    "#### Adding information of Event Snippets\n",
    "# we don't have information of creation date, so we take into account all the snippets related to the emergency page, whether they were created in the quarter of analysis or not [still the emergency should have been active on the quarter of analysis]\n",
    "go_event_snippet = go_event_snippet[['event','snippets']].groupby('event', as_index = False).count()\n",
    "go_event_snippet.rename(columns = {'snippets':'nb_snippets'}, inplace = True)\n",
    "go_events_quarter = go_events_quarter.merge(go_event_snippet, left_on = 'id_x', right_on = 'event', how = 'left')"
   ]
  },
  {
   "cell_type": "code",
   "execution_count": 135,
   "id": "004939aa",
   "metadata": {},
   "outputs": [],
   "source": [
    "go_events_quarter['ind_appeals'] = [bool(x) and pd.notna(x) for x in go_events_quarter['nb_appeals']]\n",
    "go_events_quarter['ind_field_reports'] = [bool(x) and pd.notna(x) for x in go_events_quarter['nb_field_reports']]\n",
    "go_events_quarter['ind_sitrep'] = [bool(x) and pd.notna(x) for x in go_events_quarter['nb_sitrep']]\n",
    "go_events_quarter['ind_snippets'] = [bool(x) and pd.notna(x) for x in go_events_quarter['nb_snippets']]"
   ]
  },
  {
   "cell_type": "code",
   "execution_count": 136,
   "id": "4d0c06d9",
   "metadata": {},
   "outputs": [],
   "source": [
    "page_3 = go_events_quarter.groupby(['National Society'], as_index = False).agg({'id_x':'count',\n",
    "                                                                                         'ind_appeals':'mean',\n",
    "                                                                                         'ind_field_reports':'mean',\n",
    "                                                                                        'ind_sitrep':'mean',\n",
    "                                                                                        'ind_snippets':'mean'})"
   ]
  },
  {
   "cell_type": "code",
   "execution_count": 137,
   "id": "7218e626",
   "metadata": {},
   "outputs": [],
   "source": [
    "page_3['ind_appeals'] = [np.round(x*100) for x in page_3['ind_appeals']]\n",
    "page_3['ind_field_reports'] = [np.round(x*100) for x in page_3['ind_field_reports']]\n",
    "page_3['ind_sitrep'] = [np.round(x*100) for x in page_3['ind_sitrep']]\n",
    "page_3['ind_snippets'] = [np.round(x*100) for x in page_3['ind_snippets']]"
   ]
  },
  {
   "cell_type": "code",
   "execution_count": 138,
   "id": "0f42db09",
   "metadata": {},
   "outputs": [],
   "source": [
    "page_3.rename(columns = {'id_x':'# Emergencies',\n",
    "              'ind_appeals':'% Emergencies with Appeals',\n",
    "              'ind_field_reports':'% Emergencies with Field Reports',\n",
    "              'ind_sitrep':'% Emergencies with Situation Reports',\n",
    "              'ind_snippets':'% Emergencies with Additional Content'}, inplace = True)"
   ]
  },
  {
   "cell_type": "code",
   "execution_count": 139,
   "id": "10647407",
   "metadata": {},
   "outputs": [],
   "source": [
    "#### Adding Country Admin Information\n",
    "#We don't have temporal information on this. So we give the 'latest' information we have per NS\n",
    "# We only care for entities related to national societies\n",
    "go_country_auth_permission = go_country_auth_permission[pd.notna(go_country_auth_permission['society_name'])]\n",
    "\n",
    "#empty spaces on society name are also geogrpahical entities we are not covering now\n",
    "mask = [bool(x) for x in go_country_auth_permission['society_name']]\n",
    "go_country_auth_permission = go_country_auth_permission[mask]\n",
    "go_country_auth_permission.rename(columns = {'id_x':'permission_id'}, inplace = True)\n",
    "\n",
    "go_auth_user_user_permissions = go_auth_user_user_permissions.merge(go_country_auth_permission[['permission_id','society_name']], on = 'permission_id')\n",
    "\n",
    "go_country_admin = go_auth_user_user_permissions.groupby('society_name', as_index = False).count()[['society_name','permission_id']]\n",
    "go_country_admin =  go_ns.merge(go_country_admin, how = 'left')\n",
    "go_country_admin.rename(columns = {'society_name':'National Society'}, inplace = True)\n",
    "\n",
    "page_3 = go_country_admin.merge(page_3, how = 'left')\n",
    "page_3 = page_3.rename(columns = {'permission_id':'# GO Country Admins'})\n",
    "page_3 = page_3.rename(columns = {'region_name':'Region'})\n",
    "page_3 = page_3.fillna(0)\n",
    "page_3['Quarter of Analysis'] = quarter"
   ]
  },
  {
   "cell_type": "code",
   "execution_count": 140,
   "id": "1cf860b4",
   "metadata": {},
   "outputs": [],
   "source": [
    "page_3.to_excel('../'+quarter+'/go_usage_regional_pg3.xlsx')"
   ]
  },
  {
   "cell_type": "markdown",
   "id": "7f8f441d",
   "metadata": {},
   "source": [
    "#### Users access to GO"
   ]
  },
  {
   "cell_type": "code",
   "execution_count": 141,
   "id": "f3fd3d1b",
   "metadata": {},
   "outputs": [],
   "source": [
    "#National Society access\n",
    "page_4a = go_users_quarter_ns.groupby(['region_name','org'], as_index = False).count()[['region_name','org','username']]\n",
    "page_4a.rename(columns = {'region_name':'Region', 'org':'National Society', 'username':'# Users that logged in'}, inplace = True)\n",
    "page_4a['Quarter of Analysis'] = quarter\n",
    "page_4a.to_excel('../'+quarter+'/go_usage_regional_pg4a.xlsx')"
   ]
  },
  {
   "cell_type": "code",
   "execution_count": 142,
   "id": "8e332e52",
   "metadata": {},
   "outputs": [],
   "source": [
    "#Other users access\n",
    "page_4b = go_users_quarter_other.groupby(['region_name','org_type'], as_index = False).count()[['region_name','org_type','username']]\n",
    "page_4b.rename(columns = {'region_name':'Region', 'org_type':'Org Type', 'username':'# Users that logged in'}, inplace = True)\n",
    "page_4b['Quarter of Analysis'] = quarter\n",
    "page_4b.to_excel('../'+quarter+'/go_usage_regional_pg4b.xlsx')"
   ]
  },
  {
   "cell_type": "code",
   "execution_count": 143,
   "id": "41cc8f9a",
   "metadata": {},
   "outputs": [],
   "source": [
    "#access to GO -locations from Google Analytics\n",
    "page_4c = google_views_quarter[['region_name','CountryName','# Viewers']].copy()\n",
    "page_4c.rename(columns = {'region_name': 'Region','CountryName':'Country'}, inplace = True)\n",
    "page_4c['Quarter of Analysis'] = quarter\n",
    "page_4c.to_excel('../'+quarter+'/go_usage_regional_pg4c.xlsx')"
   ]
  },
  {
   "cell_type": "markdown",
   "id": "a3e21ed1",
   "metadata": {},
   "source": [
    "#### List of regions (to use as a filter)"
   ]
  },
  {
   "cell_type": "code",
   "execution_count": 144,
   "id": "b0a3e3ac",
   "metadata": {},
   "outputs": [],
   "source": [
    "regions = go_region[['region_name']].copy()\n",
    "regions.rename(columns = {'region_name':'Region'}, inplace = True)\n",
    "regions.to_excel('../'+quarter+'/regions.xlsx')"
   ]
  },
  {
   "cell_type": "code",
   "execution_count": 145,
   "id": "f073a809",
   "metadata": {},
   "outputs": [],
   "source": [
    "regions.to_excel('../'+quarter+'/regions.xlsx')"
   ]
  },
  {
   "cell_type": "markdown",
   "id": "dc43ab36",
   "metadata": {},
   "source": [
    "---------------------------------------------------------"
   ]
  },
  {
   "cell_type": "markdown",
   "id": "6861072a",
   "metadata": {},
   "source": [
    "### Visualization"
   ]
  },
  {
   "cell_type": "markdown",
   "id": "a90a4f36",
   "metadata": {},
   "source": [
    "The output of this process is visualized in [this dashboard](https://app.powerbi.com/view?r=eyJrIjoiY2RlOTRkOGQtMDU5Yy00OWIwLWE2NmYtNTQ5NTQ3YjEwY2ZmIiwidCI6ImEyYjUzYmU1LTczNGUtNGU2Yy1hYjBkLWQxODRmNjBmZDkxNyIsImMiOjh9&pageName=ReportSectione263ecb5066f3105a8fa)"
   ]
  }
 ],
 "metadata": {
  "kernelspec": {
   "display_name": "Python 3 (ipykernel)",
   "language": "python",
   "name": "python3"
  },
  "language_info": {
   "codemirror_mode": {
    "name": "ipython",
    "version": 3
   },
   "file_extension": ".py",
   "mimetype": "text/x-python",
   "name": "python",
   "nbconvert_exporter": "python",
   "pygments_lexer": "ipython3",
   "version": "3.10.9"
  }
 },
 "nbformat": 4,
 "nbformat_minor": 5
}
